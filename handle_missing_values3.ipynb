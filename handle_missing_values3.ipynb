{
 "cells": [
  {
   "cell_type": "code",
   "execution_count": 10,
   "id": "f3f40027-3325-476c-a95e-4272986029e9",
   "metadata": {},
   "outputs": [
    {
     "data": {
      "text/html": [
       "<div>\n",
       "<style scoped>\n",
       "    .dataframe tbody tr th:only-of-type {\n",
       "        vertical-align: middle;\n",
       "    }\n",
       "\n",
       "    .dataframe tbody tr th {\n",
       "        vertical-align: top;\n",
       "    }\n",
       "\n",
       "    .dataframe thead th {\n",
       "        text-align: right;\n",
       "    }\n",
       "</style>\n",
       "<table border=\"1\" class=\"dataframe\">\n",
       "  <thead>\n",
       "    <tr style=\"text-align: right;\">\n",
       "      <th></th>\n",
       "      <th>race</th>\n",
       "      <th>gender</th>\n",
       "      <th>date</th>\n",
       "      <th>zip</th>\n",
       "      <th>income</th>\n",
       "      <th>type</th>\n",
       "      <th>term</th>\n",
       "      <th>interest</th>\n",
       "      <th>principal</th>\n",
       "      <th>approved</th>\n",
       "      <th>adj_bls_2</th>\n",
       "      <th>id</th>\n",
       "    </tr>\n",
       "  </thead>\n",
       "  <tbody>\n",
       "    <tr>\n",
       "      <th>0</th>\n",
       "      <td>hispanic/latino</td>\n",
       "      <td>male</td>\n",
       "      <td>2016-01-01</td>\n",
       "      <td>60623.0</td>\n",
       "      <td>72230.0</td>\n",
       "      <td>home</td>\n",
       "      <td>180</td>\n",
       "      <td>3.389672</td>\n",
       "      <td>508761</td>\n",
       "      <td>False</td>\n",
       "      <td>0.34</td>\n",
       "      <td>AP20161-0-2</td>\n",
       "    </tr>\n",
       "    <tr>\n",
       "      <th>1</th>\n",
       "      <td>other</td>\n",
       "      <td>male</td>\n",
       "      <td>2013-03-01</td>\n",
       "      <td>60625.0</td>\n",
       "      <td>18543.0</td>\n",
       "      <td>home</td>\n",
       "      <td>360</td>\n",
       "      <td>0.277318</td>\n",
       "      <td>119738</td>\n",
       "      <td>False</td>\n",
       "      <td>0.14</td>\n",
       "      <td>AP20133-1-23</td>\n",
       "    </tr>\n",
       "    <tr>\n",
       "      <th>2</th>\n",
       "      <td>other</td>\n",
       "      <td>male</td>\n",
       "      <td>2011-11-01</td>\n",
       "      <td>60623.0</td>\n",
       "      <td>30228.0</td>\n",
       "      <td>home</td>\n",
       "      <td>240</td>\n",
       "      <td>4.398939</td>\n",
       "      <td>265779</td>\n",
       "      <td>False</td>\n",
       "      <td>0.08</td>\n",
       "      <td>AP201111-2-22</td>\n",
       "    </tr>\n",
       "    <tr>\n",
       "      <th>3</th>\n",
       "      <td>hispanic/latino</td>\n",
       "      <td>male</td>\n",
       "      <td>2014-08-01</td>\n",
       "      <td>60623.0</td>\n",
       "      <td>11129.0</td>\n",
       "      <td>personal</td>\n",
       "      <td>60</td>\n",
       "      <td>5.221935</td>\n",
       "      <td>15590</td>\n",
       "      <td>True</td>\n",
       "      <td>0.09</td>\n",
       "      <td>AP20148-1-29</td>\n",
       "    </tr>\n",
       "    <tr>\n",
       "      <th>4</th>\n",
       "      <td>black</td>\n",
       "      <td>female</td>\n",
       "      <td>2016-11-01</td>\n",
       "      <td>60637.0</td>\n",
       "      <td>NaN</td>\n",
       "      <td>personal</td>\n",
       "      <td>60</td>\n",
       "      <td>10.843707</td>\n",
       "      <td>56301</td>\n",
       "      <td>True</td>\n",
       "      <td>0.41</td>\n",
       "      <td>AP201611-0-38</td>\n",
       "    </tr>\n",
       "    <tr>\n",
       "      <th>...</th>\n",
       "      <td>...</td>\n",
       "      <td>...</td>\n",
       "      <td>...</td>\n",
       "      <td>...</td>\n",
       "      <td>...</td>\n",
       "      <td>...</td>\n",
       "      <td>...</td>\n",
       "      <td>...</td>\n",
       "      <td>...</td>\n",
       "      <td>...</td>\n",
       "      <td>...</td>\n",
       "      <td>...</td>\n",
       "    </tr>\n",
       "    <tr>\n",
       "      <th>1302</th>\n",
       "      <td>hispanic/latino</td>\n",
       "      <td>male</td>\n",
       "      <td>2015-12-01</td>\n",
       "      <td>60626.0</td>\n",
       "      <td>24011.0</td>\n",
       "      <td>auto</td>\n",
       "      <td>84</td>\n",
       "      <td>2.975299</td>\n",
       "      <td>23189</td>\n",
       "      <td>False</td>\n",
       "      <td>0.24</td>\n",
       "      <td>AP201512-3-94</td>\n",
       "    </tr>\n",
       "    <tr>\n",
       "      <th>1303</th>\n",
       "      <td>hispanic/latino</td>\n",
       "      <td>male</td>\n",
       "      <td>2015-12-01</td>\n",
       "      <td>60626.0</td>\n",
       "      <td>24011.0</td>\n",
       "      <td>auto</td>\n",
       "      <td>84</td>\n",
       "      <td>2.975299</td>\n",
       "      <td>23189</td>\n",
       "      <td>False</td>\n",
       "      <td>0.24</td>\n",
       "      <td>AP201512-3-94</td>\n",
       "    </tr>\n",
       "    <tr>\n",
       "      <th>1304</th>\n",
       "      <td>hispanic/latino</td>\n",
       "      <td>male</td>\n",
       "      <td>2015-12-01</td>\n",
       "      <td>60626.0</td>\n",
       "      <td>24011.0</td>\n",
       "      <td>auto</td>\n",
       "      <td>84</td>\n",
       "      <td>2.975299</td>\n",
       "      <td>23189</td>\n",
       "      <td>False</td>\n",
       "      <td>0.24</td>\n",
       "      <td>AP201512-3-94</td>\n",
       "    </tr>\n",
       "    <tr>\n",
       "      <th>1305</th>\n",
       "      <td>black</td>\n",
       "      <td>female</td>\n",
       "      <td>2017-07-01</td>\n",
       "      <td>60623.0</td>\n",
       "      <td>34474.0</td>\n",
       "      <td>personal</td>\n",
       "      <td>12</td>\n",
       "      <td>4.117964</td>\n",
       "      <td>32811</td>\n",
       "      <td>False</td>\n",
       "      <td>1.15</td>\n",
       "      <td>AP20177-0-60</td>\n",
       "    </tr>\n",
       "    <tr>\n",
       "      <th>1306</th>\n",
       "      <td>black</td>\n",
       "      <td>female</td>\n",
       "      <td>2017-07-01</td>\n",
       "      <td>60623.0</td>\n",
       "      <td>34474.0</td>\n",
       "      <td>personal</td>\n",
       "      <td>12</td>\n",
       "      <td>4.117964</td>\n",
       "      <td>32811</td>\n",
       "      <td>False</td>\n",
       "      <td>1.15</td>\n",
       "      <td>AP20177-0-60</td>\n",
       "    </tr>\n",
       "  </tbody>\n",
       "</table>\n",
       "<p>1307 rows × 12 columns</p>\n",
       "</div>"
      ],
      "text/plain": [
       "                 race  gender        date      zip   income      type  term  \\\n",
       "0     hispanic/latino    male  2016-01-01  60623.0  72230.0      home   180   \n",
       "1               other    male  2013-03-01  60625.0  18543.0      home   360   \n",
       "2               other    male  2011-11-01  60623.0  30228.0      home   240   \n",
       "3     hispanic/latino    male  2014-08-01  60623.0  11129.0  personal    60   \n",
       "4               black  female  2016-11-01  60637.0      NaN  personal    60   \n",
       "...               ...     ...         ...      ...      ...       ...   ...   \n",
       "1302  hispanic/latino    male  2015-12-01  60626.0  24011.0      auto    84   \n",
       "1303  hispanic/latino    male  2015-12-01  60626.0  24011.0      auto    84   \n",
       "1304  hispanic/latino    male  2015-12-01  60626.0  24011.0      auto    84   \n",
       "1305            black  female  2017-07-01  60623.0  34474.0  personal    12   \n",
       "1306            black  female  2017-07-01  60623.0  34474.0  personal    12   \n",
       "\n",
       "       interest  principal  approved  adj_bls_2             id  \n",
       "0      3.389672     508761     False       0.34    AP20161-0-2  \n",
       "1      0.277318     119738     False       0.14   AP20133-1-23  \n",
       "2      4.398939     265779     False       0.08  AP201111-2-22  \n",
       "3      5.221935      15590      True       0.09   AP20148-1-29  \n",
       "4     10.843707      56301      True       0.41  AP201611-0-38  \n",
       "...         ...        ...       ...        ...            ...  \n",
       "1302   2.975299      23189     False       0.24  AP201512-3-94  \n",
       "1303   2.975299      23189     False       0.24  AP201512-3-94  \n",
       "1304   2.975299      23189     False       0.24  AP201512-3-94  \n",
       "1305   4.117964      32811     False       1.15   AP20177-0-60  \n",
       "1306   4.117964      32811     False       1.15   AP20177-0-60  \n",
       "\n",
       "[1307 rows x 12 columns]"
      ]
     },
     "execution_count": 10,
     "metadata": {},
     "output_type": "execute_result"
    }
   ],
   "source": [
    "import pandas as pd\n",
    "import matplotlib.pyplot as plt\n",
    "import seaborn as sns\n",
    "import numpy as np\n",
    "\n",
    "df=pd.read_csv(\"loan_data.csv\")\n",
    "df"
   ]
  },
  {
   "cell_type": "code",
   "execution_count": 21,
   "id": "1d2f74b2-8d45-4d13-8165-8087af09e34f",
   "metadata": {},
   "outputs": [
    {
     "data": {
      "text/plain": [
       "race          2.295333\n",
       "gender        1.377200\n",
       "date          0.000000\n",
       "zip           2.371844\n",
       "income       19.127774\n",
       "type          0.000000\n",
       "term          0.000000\n",
       "interest      0.000000\n",
       "principal     0.000000\n",
       "approved      0.000000\n",
       "adj_bls_2     0.000000\n",
       "id            0.000000\n",
       "dtype: float64"
      ]
     },
     "execution_count": 21,
     "metadata": {},
     "output_type": "execute_result"
    }
   ],
   "source": [
    "missing_val=df.isnull().sum()/df.shape[0]*100\n",
    "missing_val"
   ]
  },
  {
   "cell_type": "code",
   "execution_count": 29,
   "id": "90037434-7351-41f6-a3bf-90791995a589",
   "metadata": {},
   "outputs": [],
   "source": [
    "missing_val_find_col=missing_val[missing_val > 2].keys()"
   ]
  },
  {
   "cell_type": "code",
   "execution_count": 30,
   "id": "66ff9d95-fc1a-438c-b7b4-6666e22252b0",
   "metadata": {},
   "outputs": [
    {
     "data": {
      "text/plain": [
       "(1307, 9)"
      ]
     },
     "execution_count": 30,
     "metadata": {},
     "output_type": "execute_result"
    }
   ],
   "source": [
    "dropp_fun=df.drop(columns=missing_val_find_col)\n",
    "dropp_fun.shape"
   ]
  },
  {
   "cell_type": "code",
   "execution_count": 31,
   "id": "e4707713-2ecd-4be3-b641-1aaebe0d2b4d",
   "metadata": {},
   "outputs": [
    {
     "data": {
      "text/html": [
       "<div>\n",
       "<style scoped>\n",
       "    .dataframe tbody tr th:only-of-type {\n",
       "        vertical-align: middle;\n",
       "    }\n",
       "\n",
       "    .dataframe tbody tr th {\n",
       "        vertical-align: top;\n",
       "    }\n",
       "\n",
       "    .dataframe thead th {\n",
       "        text-align: right;\n",
       "    }\n",
       "</style>\n",
       "<table border=\"1\" class=\"dataframe\">\n",
       "  <thead>\n",
       "    <tr style=\"text-align: right;\">\n",
       "      <th></th>\n",
       "      <th>term</th>\n",
       "      <th>interest</th>\n",
       "      <th>principal</th>\n",
       "      <th>adj_bls_2</th>\n",
       "    </tr>\n",
       "  </thead>\n",
       "  <tbody>\n",
       "    <tr>\n",
       "      <th>0</th>\n",
       "      <td>180</td>\n",
       "      <td>3.389672</td>\n",
       "      <td>508761</td>\n",
       "      <td>0.34</td>\n",
       "    </tr>\n",
       "    <tr>\n",
       "      <th>1</th>\n",
       "      <td>360</td>\n",
       "      <td>0.277318</td>\n",
       "      <td>119738</td>\n",
       "      <td>0.14</td>\n",
       "    </tr>\n",
       "    <tr>\n",
       "      <th>2</th>\n",
       "      <td>240</td>\n",
       "      <td>4.398939</td>\n",
       "      <td>265779</td>\n",
       "      <td>0.08</td>\n",
       "    </tr>\n",
       "    <tr>\n",
       "      <th>3</th>\n",
       "      <td>60</td>\n",
       "      <td>5.221935</td>\n",
       "      <td>15590</td>\n",
       "      <td>0.09</td>\n",
       "    </tr>\n",
       "    <tr>\n",
       "      <th>4</th>\n",
       "      <td>60</td>\n",
       "      <td>10.843707</td>\n",
       "      <td>56301</td>\n",
       "      <td>0.41</td>\n",
       "    </tr>\n",
       "  </tbody>\n",
       "</table>\n",
       "</div>"
      ],
      "text/plain": [
       "   term   interest  principal  adj_bls_2\n",
       "0   180   3.389672     508761       0.34\n",
       "1   360   0.277318     119738       0.14\n",
       "2   240   4.398939     265779       0.08\n",
       "3    60   5.221935      15590       0.09\n",
       "4    60  10.843707      56301       0.41"
      ]
     },
     "execution_count": 31,
     "metadata": {},
     "output_type": "execute_result"
    }
   ],
   "source": [
    "dropp_fun2=dropp_fun.select_dtypes(include=[\"int64\",\"float64\"])\n",
    "dropp_fun2.head()"
   ]
  },
  {
   "cell_type": "code",
   "execution_count": 32,
   "id": "eaa5cb88-ec7c-4ee2-b37e-12abc59d6e43",
   "metadata": {},
   "outputs": [
    {
     "data": {
      "text/plain": [
       "<Axes: >"
      ]
     },
     "execution_count": 32,
     "metadata": {},
     "output_type": "execute_result"
    },
    {
     "data": {
      "image/png": "[encoded data removed]",
      "text/plain": [
       "<Figure size 1000x1000 with 2 Axes>"
      ]
     },
     "metadata": {},
     "output_type": "display_data"
    }
   ],
   "source": [
    "plt.figure(figsize=(10,10))\n",
    "sns.heatmap(dropp_fun2.isnull())"
   ]
  },
  {
   "cell_type": "code",
   "execution_count": 33,
   "id": "61ae7a20-1278-44a3-928f-7b83d55bea64",
   "metadata": {},
   "outputs": [
    {
     "data": {
      "text/plain": [
       "term         0\n",
       "interest     0\n",
       "principal    0\n",
       "adj_bls_2    0\n",
       "dtype: int64"
      ]
     },
     "execution_count": 33,
     "metadata": {},
     "output_type": "execute_result"
    }
   ],
   "source": [
    "dropp_fun2.isnull().sum()"
   ]
  },
  {
   "cell_type": "code",
   "execution_count": 34,
   "id": "3ac6f0ce-ec82-4c7e-b001-81628553372f",
   "metadata": {},
   "outputs": [
    {
     "data": {
      "text/plain": [
       "[]"
      ]
     },
     "execution_count": 34,
     "metadata": {},
     "output_type": "execute_result"
    }
   ],
   "source": [
    "df1=[var for var in dropp_fun2.columns if dropp_fun2[var].isnull().sum()>0]  \n",
    "df1"
   ]
  },
  {
   "cell_type": "code",
   "execution_count": null,
   "id": "9d464054-655e-4bd6-bcfa-87d446d71e0a",
   "metadata": {},
   "outputs": [],
   "source": []
  }
 ],
 "metadata": {
  "kernelspec": {
   "display_name": "Python 3 (ipykernel)",
   "language": "python",
   "name": "python3"
  },
  "language_info": {
   "codemirror_mode": {
    "name": "ipython",
    "version": 3
   },
   "file_extension": ".py",
   "mimetype": "text/x-python",
   "name": "python",
   "nbconvert_exporter": "python",
   "pygments_lexer": "ipython3",
   "version": "3.12.7"
  }
 },
 "nbformat": 4,
 "nbformat_minor": 5
}
