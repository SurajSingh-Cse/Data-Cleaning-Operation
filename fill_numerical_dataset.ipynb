{
 "cells": [
  {
   "cell_type": "code",
   "execution_count": 2,
   "metadata": {},
   "outputs": [
    {
     "data": {
      "text/plain": [
       "(1307, 12)"
      ]
     },
     "execution_count": 2,
     "metadata": {},
     "output_type": "execute_result"
    }
   ],
   "source": [
    "#import library\n",
    "\n",
    "import pandas as pd # type: ignore\n",
    "import seaborn as sns # type: ignore\n",
    "import matplotlib.pyplot as plt # type: ignore\n",
    " \n",
    "\n",
    " #load dataset\n",
    "df=pd.read_csv(r\"loan_data.csv\")\n",
    "df.shape"
   ]
  },
  {
   "cell_type": "code",
   "execution_count": 3,
   "metadata": {},
   "outputs": [
    {
     "name": "stdout",
     "output_type": "stream",
     "text": [
      "<class 'pandas.core.frame.DataFrame'>\n",
      "RangeIndex: 1307 entries, 0 to 1306\n",
      "Data columns (total 12 columns):\n",
      " #   Column     Non-Null Count  Dtype  \n",
      "---  ------     --------------  -----  \n",
      " 0   race       1277 non-null   object \n",
      " 1   gender     1289 non-null   object \n",
      " 2   date       1307 non-null   object \n",
      " 3   zip        1276 non-null   float64\n",
      " 4   income     1057 non-null   float64\n",
      " 5   type       1307 non-null   object \n",
      " 6   term       1307 non-null   int64  \n",
      " 7   interest   1307 non-null   float64\n",
      " 8   principal  1307 non-null   int64  \n",
      " 9   approved   1307 non-null   bool   \n",
      " 10  adj_bls_2  1307 non-null   float64\n",
      " 11  id         1307 non-null   object \n",
      "dtypes: bool(1), float64(4), int64(2), object(5)\n",
      "memory usage: 113.7+ KB\n"
     ]
    }
   ],
   "source": [
    "df.info()"
   ]
  },
  {
   "cell_type": "code",
   "execution_count": 4,
   "metadata": {},
   "outputs": [
    {
     "data": {
      "text/plain": [
       "Index(['zip', 'income', 'term', 'interest', 'principal', 'adj_bls_2'], dtype='object')"
      ]
     },
     "execution_count": 4,
     "metadata": {},
     "output_type": "execute_result"
    }
   ],
   "source": [
    "df.select_dtypes(include=[\"int64\",\"float64\"]).columns"
   ]
  },
  {
   "cell_type": "code",
   "execution_count": 6,
   "metadata": {},
   "outputs": [],
   "source": [
    "from sklearn.impute import SimpleImputer"
   ]
  },
  {
   "cell_type": "code",
   "execution_count": 8,
   "metadata": {},
   "outputs": [],
   "source": [
    "si=SimpleImputer(strategy=\"mean\")\n",
    "ar=si.fit_transform(df[[\"zip\",\"income\",\"term\",\"interest\",\n",
    "                     \"principal\",\"adj_bls_2\"]])"
   ]
  },
  {
   "cell_type": "code",
   "execution_count": 10,
   "metadata": {},
   "outputs": [
    {
     "data": {
      "text/html": [
       "<div>\n",
       "<style scoped>\n",
       "    .dataframe tbody tr th:only-of-type {\n",
       "        vertical-align: middle;\n",
       "    }\n",
       "\n",
       "    .dataframe tbody tr th {\n",
       "        vertical-align: top;\n",
       "    }\n",
       "\n",
       "    .dataframe thead th {\n",
       "        text-align: right;\n",
       "    }\n",
       "</style>\n",
       "<table border=\"1\" class=\"dataframe\">\n",
       "  <thead>\n",
       "    <tr style=\"text-align: right;\">\n",
       "      <th></th>\n",
       "      <th>zip</th>\n",
       "      <th>income</th>\n",
       "      <th>term</th>\n",
       "      <th>interest</th>\n",
       "      <th>principal</th>\n",
       "      <th>adj_bls_2</th>\n",
       "    </tr>\n",
       "  </thead>\n",
       "  <tbody>\n",
       "    <tr>\n",
       "      <th>0</th>\n",
       "      <td>60623.0</td>\n",
       "      <td>72230.000000</td>\n",
       "      <td>180.0</td>\n",
       "      <td>3.389672</td>\n",
       "      <td>508761.0</td>\n",
       "      <td>0.34</td>\n",
       "    </tr>\n",
       "    <tr>\n",
       "      <th>1</th>\n",
       "      <td>60625.0</td>\n",
       "      <td>18543.000000</td>\n",
       "      <td>360.0</td>\n",
       "      <td>0.277318</td>\n",
       "      <td>119738.0</td>\n",
       "      <td>0.14</td>\n",
       "    </tr>\n",
       "    <tr>\n",
       "      <th>2</th>\n",
       "      <td>60623.0</td>\n",
       "      <td>30228.000000</td>\n",
       "      <td>240.0</td>\n",
       "      <td>4.398939</td>\n",
       "      <td>265779.0</td>\n",
       "      <td>0.08</td>\n",
       "    </tr>\n",
       "    <tr>\n",
       "      <th>3</th>\n",
       "      <td>60623.0</td>\n",
       "      <td>11129.000000</td>\n",
       "      <td>60.0</td>\n",
       "      <td>5.221935</td>\n",
       "      <td>15590.0</td>\n",
       "      <td>0.09</td>\n",
       "    </tr>\n",
       "    <tr>\n",
       "      <th>4</th>\n",
       "      <td>60637.0</td>\n",
       "      <td>56449.816462</td>\n",
       "      <td>60.0</td>\n",
       "      <td>10.843707</td>\n",
       "      <td>56301.0</td>\n",
       "      <td>0.41</td>\n",
       "    </tr>\n",
       "    <tr>\n",
       "      <th>...</th>\n",
       "      <td>...</td>\n",
       "      <td>...</td>\n",
       "      <td>...</td>\n",
       "      <td>...</td>\n",
       "      <td>...</td>\n",
       "      <td>...</td>\n",
       "    </tr>\n",
       "    <tr>\n",
       "      <th>1302</th>\n",
       "      <td>60626.0</td>\n",
       "      <td>24011.000000</td>\n",
       "      <td>84.0</td>\n",
       "      <td>2.975299</td>\n",
       "      <td>23189.0</td>\n",
       "      <td>0.24</td>\n",
       "    </tr>\n",
       "    <tr>\n",
       "      <th>1303</th>\n",
       "      <td>60626.0</td>\n",
       "      <td>24011.000000</td>\n",
       "      <td>84.0</td>\n",
       "      <td>2.975299</td>\n",
       "      <td>23189.0</td>\n",
       "      <td>0.24</td>\n",
       "    </tr>\n",
       "    <tr>\n",
       "      <th>1304</th>\n",
       "      <td>60626.0</td>\n",
       "      <td>24011.000000</td>\n",
       "      <td>84.0</td>\n",
       "      <td>2.975299</td>\n",
       "      <td>23189.0</td>\n",
       "      <td>0.24</td>\n",
       "    </tr>\n",
       "    <tr>\n",
       "      <th>1305</th>\n",
       "      <td>60623.0</td>\n",
       "      <td>34474.000000</td>\n",
       "      <td>12.0</td>\n",
       "      <td>4.117964</td>\n",
       "      <td>32811.0</td>\n",
       "      <td>1.15</td>\n",
       "    </tr>\n",
       "    <tr>\n",
       "      <th>1306</th>\n",
       "      <td>60623.0</td>\n",
       "      <td>34474.000000</td>\n",
       "      <td>12.0</td>\n",
       "      <td>4.117964</td>\n",
       "      <td>32811.0</td>\n",
       "      <td>1.15</td>\n",
       "    </tr>\n",
       "  </tbody>\n",
       "</table>\n",
       "<p>1307 rows × 6 columns</p>\n",
       "</div>"
      ],
      "text/plain": [
       "          zip        income   term   interest  principal  adj_bls_2\n",
       "0     60623.0  72230.000000  180.0   3.389672   508761.0       0.34\n",
       "1     60625.0  18543.000000  360.0   0.277318   119738.0       0.14\n",
       "2     60623.0  30228.000000  240.0   4.398939   265779.0       0.08\n",
       "3     60623.0  11129.000000   60.0   5.221935    15590.0       0.09\n",
       "4     60637.0  56449.816462   60.0  10.843707    56301.0       0.41\n",
       "...       ...           ...    ...        ...        ...        ...\n",
       "1302  60626.0  24011.000000   84.0   2.975299    23189.0       0.24\n",
       "1303  60626.0  24011.000000   84.0   2.975299    23189.0       0.24\n",
       "1304  60626.0  24011.000000   84.0   2.975299    23189.0       0.24\n",
       "1305  60623.0  34474.000000   12.0   4.117964    32811.0       1.15\n",
       "1306  60623.0  34474.000000   12.0   4.117964    32811.0       1.15\n",
       "\n",
       "[1307 rows x 6 columns]"
      ]
     },
     "execution_count": 10,
     "metadata": {},
     "output_type": "execute_result"
    }
   ],
   "source": [
    "new_df=pd.DataFrame(ar,columns=df.select_dtypes(include=[\"int64\",\"float64\"]).columns)\n",
    "new_df"
   ]
  },
  {
   "cell_type": "code",
   "execution_count": null,
   "metadata": {},
   "outputs": [
    {
     "data": {
      "text/plain": [
       "zip          0\n",
       "income       0\n",
       "term         0\n",
       "interest     0\n",
       "principal    0\n",
       "adj_bls_2    0\n",
       "dtype: int64"
      ]
     },
     "execution_count": 11,
     "metadata": {},
     "output_type": "execute_result"
    }
   ],
   "source": [
    "new_df.isnull().sum() #fill numerical dataset"
   ]
  }
 ],
 "metadata": {
  "kernelspec": {
   "display_name": "Python 3",
   "language": "python",
   "name": "python3"
  },
  "language_info": {
   "codemirror_mode": {
    "name": "ipython",
    "version": 3
   },
   "file_extension": ".py",
   "mimetype": "text/x-python",
   "name": "python",
   "nbconvert_exporter": "python",
   "pygments_lexer": "ipython3",
   "version": "3.11.5"
  }
 },
 "nbformat": 4,
 "nbformat_minor": 2
}
